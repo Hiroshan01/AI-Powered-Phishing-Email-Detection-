{
 "cells": [
  {
   "cell_type": "code",
   "execution_count": 3,
   "metadata": {},
   "outputs": [],
   "source": [
    "#required libraries.\n",
    "import pandas as pd #data manipualtion and analysing (DataFrame)\n",
    "import matplotlib.pyplot as plt  #Creating statc visualiztion \n",
    "import seaborn as sns  # improve static visulisation\n",
    "import numpy as np #numeric operation\n",
    "import plotly.express as px #interactive visualizations, like scatter plots, bar charts.\n",
    "\n",
    "\n",
    "# sklearn's TfidfVectorizer converts text into TF-IDF features for text analysis.\n",
    "# CountVectorizer converts text into a matrix of token counts.\n",
    "\n",
    "from sklearn.feature_extraction.text import TfidfVectorizer,CountVectorizer\n",
    "from sklearn.linear_model import LogisticRegression\n",
    "from sklearn.tree import DecisionTreeClassifier\n",
    "from sklearn.ensemble import RandomForestClassifier\n",
    "from sklearn.neural_network import MLPClassifier  #(Multi-Layer Perceptron) is a neural network-based model used for classification.\n",
    "from sklearn.model_selection import train_test_split\n",
    "from tensorflow.keras.preprocessing.text import Tokenizer\n",
    "from tensorflow.keras.layers import Embedding,GRU,LSTM,Bidirectional,SimpleRNN\n",
    "from tensorflow.keras.utils import pad_sequences\n",
    "from sklearn.preprocessing import LabelEncoder\n",
    "from keras.models import Sequential\n",
    "from keras.layers import Dense,Dropout\n",
    "import tensorflow as tf\n",
    "import warnings\n",
    "\n",
    "warnings.filterwarnings('ignore')"
   ]
  },
  {
   "cell_type": "code",
   "execution_count": 4,
   "metadata": {},
   "outputs": [
    {
     "data": {
      "text/html": [
       "<div>\n",
       "<style scoped>\n",
       "    .dataframe tbody tr th:only-of-type {\n",
       "        vertical-align: middle;\n",
       "    }\n",
       "\n",
       "    .dataframe tbody tr th {\n",
       "        vertical-align: top;\n",
       "    }\n",
       "\n",
       "    .dataframe thead th {\n",
       "        text-align: right;\n",
       "    }\n",
       "</style>\n",
       "<table border=\"1\" class=\"dataframe\">\n",
       "  <thead>\n",
       "    <tr style=\"text-align: right;\">\n",
       "      <th></th>\n",
       "      <th>Unnamed: 0</th>\n",
       "      <th>Email Text</th>\n",
       "      <th>Email Type</th>\n",
       "    </tr>\n",
       "  </thead>\n",
       "  <tbody>\n",
       "    <tr>\n",
       "      <th>0</th>\n",
       "      <td>0</td>\n",
       "      <td>re : 6 . 1100 , disc : uniformitarianism , re ...</td>\n",
       "      <td>Safe Email</td>\n",
       "    </tr>\n",
       "    <tr>\n",
       "      <th>1</th>\n",
       "      <td>1</td>\n",
       "      <td>the other side of * galicismos * * galicismo *...</td>\n",
       "      <td>Safe Email</td>\n",
       "    </tr>\n",
       "    <tr>\n",
       "      <th>2</th>\n",
       "      <td>2</td>\n",
       "      <td>re : equistar deal tickets are you still avail...</td>\n",
       "      <td>Safe Email</td>\n",
       "    </tr>\n",
       "    <tr>\n",
       "      <th>3</th>\n",
       "      <td>3</td>\n",
       "      <td>\\nHello I am your hot lil horny toy.\\n    I am...</td>\n",
       "      <td>Phishing Email</td>\n",
       "    </tr>\n",
       "    <tr>\n",
       "      <th>4</th>\n",
       "      <td>4</td>\n",
       "      <td>software at incredibly low prices ( 86 % lower...</td>\n",
       "      <td>Phishing Email</td>\n",
       "    </tr>\n",
       "  </tbody>\n",
       "</table>\n",
       "</div>"
      ],
      "text/plain": [
       "   Unnamed: 0                                         Email Text  \\\n",
       "0           0  re : 6 . 1100 , disc : uniformitarianism , re ...   \n",
       "1           1  the other side of * galicismos * * galicismo *...   \n",
       "2           2  re : equistar deal tickets are you still avail...   \n",
       "3           3  \\nHello I am your hot lil horny toy.\\n    I am...   \n",
       "4           4  software at incredibly low prices ( 86 % lower...   \n",
       "\n",
       "       Email Type  \n",
       "0      Safe Email  \n",
       "1      Safe Email  \n",
       "2      Safe Email  \n",
       "3  Phishing Email  \n",
       "4  Phishing Email  "
      ]
     },
     "execution_count": 4,
     "metadata": {},
     "output_type": "execute_result"
    }
   ],
   "source": [
    "df = pd.read_csv(\"Phishing_Email.csv\")\n",
    "\n",
    "df.head()"
   ]
  },
  {
   "cell_type": "code",
   "execution_count": 5,
   "metadata": {},
   "outputs": [
    {
     "data": {
      "text/plain": [
       "Unnamed: 0     0\n",
       "Email Text    16\n",
       "Email Type     0\n",
       "dtype: int64"
      ]
     },
     "execution_count": 5,
     "metadata": {},
     "output_type": "execute_result"
    }
   ],
   "source": [
    "df.isnull().sum()"
   ]
  },
  {
   "cell_type": "code",
   "execution_count": 6,
   "metadata": {},
   "outputs": [
    {
     "name": "stdout",
     "output_type": "stream",
     "text": [
      "Index(['Unnamed: 0', 'Email Text', 'Email Type'], dtype='object')\n"
     ]
    }
   ],
   "source": [
    "print(df.columns)\n",
    "\n"
   ]
  },
  {
   "cell_type": "code",
   "execution_count": 7,
   "metadata": {},
   "outputs": [
    {
     "name": "stdout",
     "output_type": "stream",
     "text": [
      "['Unnamed: 0', 'Email Text', 'Email Type']\n"
     ]
    }
   ],
   "source": [
    "print(df.columns.tolist())\n",
    "\n",
    "\n"
   ]
  },
  {
   "cell_type": "code",
   "execution_count": 8,
   "metadata": {},
   "outputs": [],
   "source": [
    "#Remove Nan Value in Email Text. I  remove rows where \"Email Text\" is missing (16 rows)\n",
    "df.dropna(subset=[\"Email Text\"], inplace=True)\n"
   ]
  },
  {
   "cell_type": "code",
   "execution_count": 9,
   "metadata": {},
   "outputs": [
    {
     "data": {
      "text/plain": [
       "Unnamed: 0    0\n",
       "Email Text    0\n",
       "Email Type    0\n",
       "dtype: int64"
      ]
     },
     "execution_count": 9,
     "metadata": {},
     "output_type": "execute_result"
    }
   ],
   "source": [
    "#Check missing values\n",
    "df.isnull().sum()\n",
    "\n"
   ]
  },
  {
   "cell_type": "code",
   "execution_count": 10,
   "metadata": {},
   "outputs": [],
   "source": [
    "#Change colunm name taht mean rename\n",
    "df.rename(columns={\"Unnamed: 0\": \"Email_count\"}, inplace=True)\n"
   ]
  },
  {
   "cell_type": "code",
   "execution_count": 11,
   "metadata": {},
   "outputs": [
    {
     "data": {
      "text/html": [
       "<div>\n",
       "<style scoped>\n",
       "    .dataframe tbody tr th:only-of-type {\n",
       "        vertical-align: middle;\n",
       "    }\n",
       "\n",
       "    .dataframe tbody tr th {\n",
       "        vertical-align: top;\n",
       "    }\n",
       "\n",
       "    .dataframe thead th {\n",
       "        text-align: right;\n",
       "    }\n",
       "</style>\n",
       "<table border=\"1\" class=\"dataframe\">\n",
       "  <thead>\n",
       "    <tr style=\"text-align: right;\">\n",
       "      <th></th>\n",
       "      <th>Email_count</th>\n",
       "      <th>Email Text</th>\n",
       "      <th>Email Type</th>\n",
       "    </tr>\n",
       "  </thead>\n",
       "  <tbody>\n",
       "    <tr>\n",
       "      <th>0</th>\n",
       "      <td>0</td>\n",
       "      <td>re : 6 . 1100 , disc : uniformitarianism , re ...</td>\n",
       "      <td>Safe Email</td>\n",
       "    </tr>\n",
       "    <tr>\n",
       "      <th>1</th>\n",
       "      <td>1</td>\n",
       "      <td>the other side of * galicismos * * galicismo *...</td>\n",
       "      <td>Safe Email</td>\n",
       "    </tr>\n",
       "    <tr>\n",
       "      <th>2</th>\n",
       "      <td>2</td>\n",
       "      <td>re : equistar deal tickets are you still avail...</td>\n",
       "      <td>Safe Email</td>\n",
       "    </tr>\n",
       "    <tr>\n",
       "      <th>3</th>\n",
       "      <td>3</td>\n",
       "      <td>\\nHello I am your hot lil horny toy.\\n    I am...</td>\n",
       "      <td>Phishing Email</td>\n",
       "    </tr>\n",
       "    <tr>\n",
       "      <th>4</th>\n",
       "      <td>4</td>\n",
       "      <td>software at incredibly low prices ( 86 % lower...</td>\n",
       "      <td>Phishing Email</td>\n",
       "    </tr>\n",
       "  </tbody>\n",
       "</table>\n",
       "</div>"
      ],
      "text/plain": [
       "   Email_count                                         Email Text  \\\n",
       "0            0  re : 6 . 1100 , disc : uniformitarianism , re ...   \n",
       "1            1  the other side of * galicismos * * galicismo *...   \n",
       "2            2  re : equistar deal tickets are you still avail...   \n",
       "3            3  \\nHello I am your hot lil horny toy.\\n    I am...   \n",
       "4            4  software at incredibly low prices ( 86 % lower...   \n",
       "\n",
       "       Email Type  \n",
       "0      Safe Email  \n",
       "1      Safe Email  \n",
       "2      Safe Email  \n",
       "3  Phishing Email  \n",
       "4  Phishing Email  "
      ]
     },
     "execution_count": 11,
     "metadata": {},
     "output_type": "execute_result"
    }
   ],
   "source": [
    "df.head()"
   ]
  },
  {
   "cell_type": "code",
   "execution_count": 12,
   "metadata": {},
   "outputs": [
    {
     "name": "stdout",
     "output_type": "stream",
     "text": [
      "Dimension of the row data: (18634, 3)\n"
     ]
    }
   ],
   "source": [
    "#shape of data set\n",
    "print(\"Dimension of the row data:\",df.shape)"
   ]
  },
  {
   "cell_type": "code",
   "execution_count": 13,
   "metadata": {},
   "outputs": [
    {
     "data": {
      "application/vnd.plotly.v1+json": {
       "config": {
        "plotlyServerURL": "https://plot.ly"
       },
       "data": [
        {
         "alignmentgroup": "True",
         "hovertemplate": "color=blue<br>Category Safe Email and Phishing Email=%{x}<br>Count of Emails=%{y}<extra></extra>",
         "legendgroup": "blue",
         "marker": {
          "color": "#636efa",
          "pattern": {
           "shape": ""
          }
         },
         "name": "blue",
         "offsetgroup": "blue",
         "orientation": "v",
         "showlegend": true,
         "textposition": "auto",
         "type": "bar",
         "x": [
          "Safe Email"
         ],
         "xaxis": "x",
         "y": [
          11322
         ],
         "yaxis": "y"
        },
        {
         "alignmentgroup": "True",
         "hovertemplate": "color=red<br>Category Safe Email and Phishing Email=%{x}<br>Count of Emails=%{y}<extra></extra>",
         "legendgroup": "red",
         "marker": {
          "color": "#EF553B",
          "pattern": {
           "shape": ""
          }
         },
         "name": "red",
         "offsetgroup": "red",
         "orientation": "v",
         "showlegend": true,
         "textposition": "auto",
         "type": "bar",
         "x": [
          "Phishing Email"
         ],
         "xaxis": "x",
         "y": [
          7312
         ],
         "yaxis": "y"
        }
       ],
       "layout": {
        "barmode": "relative",
        "legend": {
         "title": {
          "text": "color"
         },
         "tracegroupgap": 0
        },
        "template": {
         "data": {
          "bar": [
           {
            "error_x": {
             "color": "#2a3f5f"
            },
            "error_y": {
             "color": "#2a3f5f"
            },
            "marker": {
             "line": {
              "color": "#E5ECF6",
              "width": 0.5
             },
             "pattern": {
              "fillmode": "overlay",
              "size": 10,
              "solidity": 0.2
             }
            },
            "type": "bar"
           }
          ],
          "barpolar": [
           {
            "marker": {
             "line": {
              "color": "#E5ECF6",
              "width": 0.5
             },
             "pattern": {
              "fillmode": "overlay",
              "size": 10,
              "solidity": 0.2
             }
            },
            "type": "barpolar"
           }
          ],
          "carpet": [
           {
            "aaxis": {
             "endlinecolor": "#2a3f5f",
             "gridcolor": "white",
             "linecolor": "white",
             "minorgridcolor": "white",
             "startlinecolor": "#2a3f5f"
            },
            "baxis": {
             "endlinecolor": "#2a3f5f",
             "gridcolor": "white",
             "linecolor": "white",
             "minorgridcolor": "white",
             "startlinecolor": "#2a3f5f"
            },
            "type": "carpet"
           }
          ],
          "choropleth": [
           {
            "colorbar": {
             "outlinewidth": 0,
             "ticks": ""
            },
            "type": "choropleth"
           }
          ],
          "contour": [
           {
            "colorbar": {
             "outlinewidth": 0,
             "ticks": ""
            },
            "colorscale": [
             [
              0,
              "#0d0887"
             ],
             [
              0.1111111111111111,
              "#46039f"
             ],
             [
              0.2222222222222222,
              "#7201a8"
             ],
             [
              0.3333333333333333,
              "#9c179e"
             ],
             [
              0.4444444444444444,
              "#bd3786"
             ],
             [
              0.5555555555555556,
              "#d8576b"
             ],
             [
              0.6666666666666666,
              "#ed7953"
             ],
             [
              0.7777777777777778,
              "#fb9f3a"
             ],
             [
              0.8888888888888888,
              "#fdca26"
             ],
             [
              1,
              "#f0f921"
             ]
            ],
            "type": "contour"
           }
          ],
          "contourcarpet": [
           {
            "colorbar": {
             "outlinewidth": 0,
             "ticks": ""
            },
            "type": "contourcarpet"
           }
          ],
          "heatmap": [
           {
            "colorbar": {
             "outlinewidth": 0,
             "ticks": ""
            },
            "colorscale": [
             [
              0,
              "#0d0887"
             ],
             [
              0.1111111111111111,
              "#46039f"
             ],
             [
              0.2222222222222222,
              "#7201a8"
             ],
             [
              0.3333333333333333,
              "#9c179e"
             ],
             [
              0.4444444444444444,
              "#bd3786"
             ],
             [
              0.5555555555555556,
              "#d8576b"
             ],
             [
              0.6666666666666666,
              "#ed7953"
             ],
             [
              0.7777777777777778,
              "#fb9f3a"
             ],
             [
              0.8888888888888888,
              "#fdca26"
             ],
             [
              1,
              "#f0f921"
             ]
            ],
            "type": "heatmap"
           }
          ],
          "heatmapgl": [
           {
            "colorbar": {
             "outlinewidth": 0,
             "ticks": ""
            },
            "colorscale": [
             [
              0,
              "#0d0887"
             ],
             [
              0.1111111111111111,
              "#46039f"
             ],
             [
              0.2222222222222222,
              "#7201a8"
             ],
             [
              0.3333333333333333,
              "#9c179e"
             ],
             [
              0.4444444444444444,
              "#bd3786"
             ],
             [
              0.5555555555555556,
              "#d8576b"
             ],
             [
              0.6666666666666666,
              "#ed7953"
             ],
             [
              0.7777777777777778,
              "#fb9f3a"
             ],
             [
              0.8888888888888888,
              "#fdca26"
             ],
             [
              1,
              "#f0f921"
             ]
            ],
            "type": "heatmapgl"
           }
          ],
          "histogram": [
           {
            "marker": {
             "pattern": {
              "fillmode": "overlay",
              "size": 10,
              "solidity": 0.2
             }
            },
            "type": "histogram"
           }
          ],
          "histogram2d": [
           {
            "colorbar": {
             "outlinewidth": 0,
             "ticks": ""
            },
            "colorscale": [
             [
              0,
              "#0d0887"
             ],
             [
              0.1111111111111111,
              "#46039f"
             ],
             [
              0.2222222222222222,
              "#7201a8"
             ],
             [
              0.3333333333333333,
              "#9c179e"
             ],
             [
              0.4444444444444444,
              "#bd3786"
             ],
             [
              0.5555555555555556,
              "#d8576b"
             ],
             [
              0.6666666666666666,
              "#ed7953"
             ],
             [
              0.7777777777777778,
              "#fb9f3a"
             ],
             [
              0.8888888888888888,
              "#fdca26"
             ],
             [
              1,
              "#f0f921"
             ]
            ],
            "type": "histogram2d"
           }
          ],
          "histogram2dcontour": [
           {
            "colorbar": {
             "outlinewidth": 0,
             "ticks": ""
            },
            "colorscale": [
             [
              0,
              "#0d0887"
             ],
             [
              0.1111111111111111,
              "#46039f"
             ],
             [
              0.2222222222222222,
              "#7201a8"
             ],
             [
              0.3333333333333333,
              "#9c179e"
             ],
             [
              0.4444444444444444,
              "#bd3786"
             ],
             [
              0.5555555555555556,
              "#d8576b"
             ],
             [
              0.6666666666666666,
              "#ed7953"
             ],
             [
              0.7777777777777778,
              "#fb9f3a"
             ],
             [
              0.8888888888888888,
              "#fdca26"
             ],
             [
              1,
              "#f0f921"
             ]
            ],
            "type": "histogram2dcontour"
           }
          ],
          "mesh3d": [
           {
            "colorbar": {
             "outlinewidth": 0,
             "ticks": ""
            },
            "type": "mesh3d"
           }
          ],
          "parcoords": [
           {
            "line": {
             "colorbar": {
              "outlinewidth": 0,
              "ticks": ""
             }
            },
            "type": "parcoords"
           }
          ],
          "pie": [
           {
            "automargin": true,
            "type": "pie"
           }
          ],
          "scatter": [
           {
            "fillpattern": {
             "fillmode": "overlay",
             "size": 10,
             "solidity": 0.2
            },
            "type": "scatter"
           }
          ],
          "scatter3d": [
           {
            "line": {
             "colorbar": {
              "outlinewidth": 0,
              "ticks": ""
             }
            },
            "marker": {
             "colorbar": {
              "outlinewidth": 0,
              "ticks": ""
             }
            },
            "type": "scatter3d"
           }
          ],
          "scattercarpet": [
           {
            "marker": {
             "colorbar": {
              "outlinewidth": 0,
              "ticks": ""
             }
            },
            "type": "scattercarpet"
           }
          ],
          "scattergeo": [
           {
            "marker": {
             "colorbar": {
              "outlinewidth": 0,
              "ticks": ""
             }
            },
            "type": "scattergeo"
           }
          ],
          "scattergl": [
           {
            "marker": {
             "colorbar": {
              "outlinewidth": 0,
              "ticks": ""
             }
            },
            "type": "scattergl"
           }
          ],
          "scattermapbox": [
           {
            "marker": {
             "colorbar": {
              "outlinewidth": 0,
              "ticks": ""
             }
            },
            "type": "scattermapbox"
           }
          ],
          "scatterpolar": [
           {
            "marker": {
             "colorbar": {
              "outlinewidth": 0,
              "ticks": ""
             }
            },
            "type": "scatterpolar"
           }
          ],
          "scatterpolargl": [
           {
            "marker": {
             "colorbar": {
              "outlinewidth": 0,
              "ticks": ""
             }
            },
            "type": "scatterpolargl"
           }
          ],
          "scatterternary": [
           {
            "marker": {
             "colorbar": {
              "outlinewidth": 0,
              "ticks": ""
             }
            },
            "type": "scatterternary"
           }
          ],
          "surface": [
           {
            "colorbar": {
             "outlinewidth": 0,
             "ticks": ""
            },
            "colorscale": [
             [
              0,
              "#0d0887"
             ],
             [
              0.1111111111111111,
              "#46039f"
             ],
             [
              0.2222222222222222,
              "#7201a8"
             ],
             [
              0.3333333333333333,
              "#9c179e"
             ],
             [
              0.4444444444444444,
              "#bd3786"
             ],
             [
              0.5555555555555556,
              "#d8576b"
             ],
             [
              0.6666666666666666,
              "#ed7953"
             ],
             [
              0.7777777777777778,
              "#fb9f3a"
             ],
             [
              0.8888888888888888,
              "#fdca26"
             ],
             [
              1,
              "#f0f921"
             ]
            ],
            "type": "surface"
           }
          ],
          "table": [
           {
            "cells": {
             "fill": {
              "color": "#EBF0F8"
             },
             "line": {
              "color": "white"
             }
            },
            "header": {
             "fill": {
              "color": "#C8D4E3"
             },
             "line": {
              "color": "white"
             }
            },
            "type": "table"
           }
          ]
         },
         "layout": {
          "annotationdefaults": {
           "arrowcolor": "#2a3f5f",
           "arrowhead": 0,
           "arrowwidth": 1
          },
          "autotypenumbers": "strict",
          "coloraxis": {
           "colorbar": {
            "outlinewidth": 0,
            "ticks": ""
           }
          },
          "colorscale": {
           "diverging": [
            [
             0,
             "#8e0152"
            ],
            [
             0.1,
             "#c51b7d"
            ],
            [
             0.2,
             "#de77ae"
            ],
            [
             0.3,
             "#f1b6da"
            ],
            [
             0.4,
             "#fde0ef"
            ],
            [
             0.5,
             "#f7f7f7"
            ],
            [
             0.6,
             "#e6f5d0"
            ],
            [
             0.7,
             "#b8e186"
            ],
            [
             0.8,
             "#7fbc41"
            ],
            [
             0.9,
             "#4d9221"
            ],
            [
             1,
             "#276419"
            ]
           ],
           "sequential": [
            [
             0,
             "#0d0887"
            ],
            [
             0.1111111111111111,
             "#46039f"
            ],
            [
             0.2222222222222222,
             "#7201a8"
            ],
            [
             0.3333333333333333,
             "#9c179e"
            ],
            [
             0.4444444444444444,
             "#bd3786"
            ],
            [
             0.5555555555555556,
             "#d8576b"
            ],
            [
             0.6666666666666666,
             "#ed7953"
            ],
            [
             0.7777777777777778,
             "#fb9f3a"
            ],
            [
             0.8888888888888888,
             "#fdca26"
            ],
            [
             1,
             "#f0f921"
            ]
           ],
           "sequentialminus": [
            [
             0,
             "#0d0887"
            ],
            [
             0.1111111111111111,
             "#46039f"
            ],
            [
             0.2222222222222222,
             "#7201a8"
            ],
            [
             0.3333333333333333,
             "#9c179e"
            ],
            [
             0.4444444444444444,
             "#bd3786"
            ],
            [
             0.5555555555555556,
             "#d8576b"
            ],
            [
             0.6666666666666666,
             "#ed7953"
            ],
            [
             0.7777777777777778,
             "#fb9f3a"
            ],
            [
             0.8888888888888888,
             "#fdca26"
            ],
            [
             1,
             "#f0f921"
            ]
           ]
          },
          "colorway": [
           "#636efa",
           "#EF553B",
           "#00cc96",
           "#ab63fa",
           "#FFA15A",
           "#19d3f3",
           "#FF6692",
           "#B6E880",
           "#FF97FF",
           "#FECB52"
          ],
          "font": {
           "color": "#2a3f5f"
          },
          "geo": {
           "bgcolor": "white",
           "lakecolor": "white",
           "landcolor": "#E5ECF6",
           "showlakes": true,
           "showland": true,
           "subunitcolor": "white"
          },
          "hoverlabel": {
           "align": "left"
          },
          "hovermode": "closest",
          "mapbox": {
           "style": "light"
          },
          "paper_bgcolor": "white",
          "plot_bgcolor": "#E5ECF6",
          "polar": {
           "angularaxis": {
            "gridcolor": "white",
            "linecolor": "white",
            "ticks": ""
           },
           "bgcolor": "#E5ECF6",
           "radialaxis": {
            "gridcolor": "white",
            "linecolor": "white",
            "ticks": ""
           }
          },
          "scene": {
           "xaxis": {
            "backgroundcolor": "#E5ECF6",
            "gridcolor": "white",
            "gridwidth": 2,
            "linecolor": "white",
            "showbackground": true,
            "ticks": "",
            "zerolinecolor": "white"
           },
           "yaxis": {
            "backgroundcolor": "#E5ECF6",
            "gridcolor": "white",
            "gridwidth": 2,
            "linecolor": "white",
            "showbackground": true,
            "ticks": "",
            "zerolinecolor": "white"
           },
           "zaxis": {
            "backgroundcolor": "#E5ECF6",
            "gridcolor": "white",
            "gridwidth": 2,
            "linecolor": "white",
            "showbackground": true,
            "ticks": "",
            "zerolinecolor": "white"
           }
          },
          "shapedefaults": {
           "line": {
            "color": "#2a3f5f"
           }
          },
          "ternary": {
           "aaxis": {
            "gridcolor": "white",
            "linecolor": "white",
            "ticks": ""
           },
           "baxis": {
            "gridcolor": "white",
            "linecolor": "white",
            "ticks": ""
           },
           "bgcolor": "#E5ECF6",
           "caxis": {
            "gridcolor": "white",
            "linecolor": "white",
            "ticks": ""
           }
          },
          "title": {
           "x": 0.05
          },
          "xaxis": {
           "automargin": true,
           "gridcolor": "white",
           "linecolor": "white",
           "ticks": "",
           "title": {
            "standoff": 15
           },
           "zerolinecolor": "white",
           "zerolinewidth": 2
          },
          "yaxis": {
           "automargin": true,
           "gridcolor": "white",
           "linecolor": "white",
           "ticks": "",
           "title": {
            "standoff": 15
           },
           "zerolinecolor": "white",
           "zerolinewidth": 2
          }
         }
        },
        "title": {
         "text": "Categorical Distribution"
        },
        "xaxis": {
         "anchor": "y",
         "domain": [
          0,
          1
         ],
         "title": {
          "text": "Category Safe Email and Phishing Email"
         }
        },
        "yaxis": {
         "anchor": "x",
         "domain": [
          0,
          1
         ],
         "title": {
          "text": "Count of Emails"
         }
        }
       }
      }
     },
     "metadata": {},
     "output_type": "display_data"
    }
   ],
   "source": [
    "# Create the bar chart\n",
    "bar = px.bar(df['Email Type'].value_counts(), x=df['Email Type'].value_counts().index, y=df['Email Type'].value_counts().values,\n",
    "             color=['blue', 'red'], labels={'x': 'Category Safe Email and Phishing Email', 'y': 'Count of Emails'},\n",
    "             title=\"Categorical Distribution\")\n",
    "\n",
    "# Show the plot\n",
    "bar.show()"
   ]
  },
  {
   "cell_type": "code",
   "execution_count": 14,
   "metadata": {},
   "outputs": [
    {
     "data": {
      "application/vnd.plotly.v1+json": {
       "config": {
        "plotlyServerURL": "https://plot.ly"
       },
       "data": [
        {
         "domain": {
          "x": [
           0,
           1
          ],
          "y": [
           0,
           1
          ]
         },
         "hovertemplate": "label=%{label}<br>value=%{value}<extra></extra>",
         "labels": [
          "Safe Email",
          "Phishing Email"
         ],
         "legendgroup": "",
         "name": "",
         "showlegend": true,
         "type": "pie",
         "values": [
          11322,
          7312
         ]
        }
       ],
       "layout": {
        "legend": {
         "tracegroupgap": 0
        },
        "template": {
         "data": {
          "bar": [
           {
            "error_x": {
             "color": "#2a3f5f"
            },
            "error_y": {
             "color": "#2a3f5f"
            },
            "marker": {
             "line": {
              "color": "#E5ECF6",
              "width": 0.5
             },
             "pattern": {
              "fillmode": "overlay",
              "size": 10,
              "solidity": 0.2
             }
            },
            "type": "bar"
           }
          ],
          "barpolar": [
           {
            "marker": {
             "line": {
              "color": "#E5ECF6",
              "width": 0.5
             },
             "pattern": {
              "fillmode": "overlay",
              "size": 10,
              "solidity": 0.2
             }
            },
            "type": "barpolar"
           }
          ],
          "carpet": [
           {
            "aaxis": {
             "endlinecolor": "#2a3f5f",
             "gridcolor": "white",
             "linecolor": "white",
             "minorgridcolor": "white",
             "startlinecolor": "#2a3f5f"
            },
            "baxis": {
             "endlinecolor": "#2a3f5f",
             "gridcolor": "white",
             "linecolor": "white",
             "minorgridcolor": "white",
             "startlinecolor": "#2a3f5f"
            },
            "type": "carpet"
           }
          ],
          "choropleth": [
           {
            "colorbar": {
             "outlinewidth": 0,
             "ticks": ""
            },
            "type": "choropleth"
           }
          ],
          "contour": [
           {
            "colorbar": {
             "outlinewidth": 0,
             "ticks": ""
            },
            "colorscale": [
             [
              0,
              "#0d0887"
             ],
             [
              0.1111111111111111,
              "#46039f"
             ],
             [
              0.2222222222222222,
              "#7201a8"
             ],
             [
              0.3333333333333333,
              "#9c179e"
             ],
             [
              0.4444444444444444,
              "#bd3786"
             ],
             [
              0.5555555555555556,
              "#d8576b"
             ],
             [
              0.6666666666666666,
              "#ed7953"
             ],
             [
              0.7777777777777778,
              "#fb9f3a"
             ],
             [
              0.8888888888888888,
              "#fdca26"
             ],
             [
              1,
              "#f0f921"
             ]
            ],
            "type": "contour"
           }
          ],
          "contourcarpet": [
           {
            "colorbar": {
             "outlinewidth": 0,
             "ticks": ""
            },
            "type": "contourcarpet"
           }
          ],
          "heatmap": [
           {
            "colorbar": {
             "outlinewidth": 0,
             "ticks": ""
            },
            "colorscale": [
             [
              0,
              "#0d0887"
             ],
             [
              0.1111111111111111,
              "#46039f"
             ],
             [
              0.2222222222222222,
              "#7201a8"
             ],
             [
              0.3333333333333333,
              "#9c179e"
             ],
             [
              0.4444444444444444,
              "#bd3786"
             ],
             [
              0.5555555555555556,
              "#d8576b"
             ],
             [
              0.6666666666666666,
              "#ed7953"
             ],
             [
              0.7777777777777778,
              "#fb9f3a"
             ],
             [
              0.8888888888888888,
              "#fdca26"
             ],
             [
              1,
              "#f0f921"
             ]
            ],
            "type": "heatmap"
           }
          ],
          "heatmapgl": [
           {
            "colorbar": {
             "outlinewidth": 0,
             "ticks": ""
            },
            "colorscale": [
             [
              0,
              "#0d0887"
             ],
             [
              0.1111111111111111,
              "#46039f"
             ],
             [
              0.2222222222222222,
              "#7201a8"
             ],
             [
              0.3333333333333333,
              "#9c179e"
             ],
             [
              0.4444444444444444,
              "#bd3786"
             ],
             [
              0.5555555555555556,
              "#d8576b"
             ],
             [
              0.6666666666666666,
              "#ed7953"
             ],
             [
              0.7777777777777778,
              "#fb9f3a"
             ],
             [
              0.8888888888888888,
              "#fdca26"
             ],
             [
              1,
              "#f0f921"
             ]
            ],
            "type": "heatmapgl"
           }
          ],
          "histogram": [
           {
            "marker": {
             "pattern": {
              "fillmode": "overlay",
              "size": 10,
              "solidity": 0.2
             }
            },
            "type": "histogram"
           }
          ],
          "histogram2d": [
           {
            "colorbar": {
             "outlinewidth": 0,
             "ticks": ""
            },
            "colorscale": [
             [
              0,
              "#0d0887"
             ],
             [
              0.1111111111111111,
              "#46039f"
             ],
             [
              0.2222222222222222,
              "#7201a8"
             ],
             [
              0.3333333333333333,
              "#9c179e"
             ],
             [
              0.4444444444444444,
              "#bd3786"
             ],
             [
              0.5555555555555556,
              "#d8576b"
             ],
             [
              0.6666666666666666,
              "#ed7953"
             ],
             [
              0.7777777777777778,
              "#fb9f3a"
             ],
             [
              0.8888888888888888,
              "#fdca26"
             ],
             [
              1,
              "#f0f921"
             ]
            ],
            "type": "histogram2d"
           }
          ],
          "histogram2dcontour": [
           {
            "colorbar": {
             "outlinewidth": 0,
             "ticks": ""
            },
            "colorscale": [
             [
              0,
              "#0d0887"
             ],
             [
              0.1111111111111111,
              "#46039f"
             ],
             [
              0.2222222222222222,
              "#7201a8"
             ],
             [
              0.3333333333333333,
              "#9c179e"
             ],
             [
              0.4444444444444444,
              "#bd3786"
             ],
             [
              0.5555555555555556,
              "#d8576b"
             ],
             [
              0.6666666666666666,
              "#ed7953"
             ],
             [
              0.7777777777777778,
              "#fb9f3a"
             ],
             [
              0.8888888888888888,
              "#fdca26"
             ],
             [
              1,
              "#f0f921"
             ]
            ],
            "type": "histogram2dcontour"
           }
          ],
          "mesh3d": [
           {
            "colorbar": {
             "outlinewidth": 0,
             "ticks": ""
            },
            "type": "mesh3d"
           }
          ],
          "parcoords": [
           {
            "line": {
             "colorbar": {
              "outlinewidth": 0,
              "ticks": ""
             }
            },
            "type": "parcoords"
           }
          ],
          "pie": [
           {
            "automargin": true,
            "type": "pie"
           }
          ],
          "scatter": [
           {
            "fillpattern": {
             "fillmode": "overlay",
             "size": 10,
             "solidity": 0.2
            },
            "type": "scatter"
           }
          ],
          "scatter3d": [
           {
            "line": {
             "colorbar": {
              "outlinewidth": 0,
              "ticks": ""
             }
            },
            "marker": {
             "colorbar": {
              "outlinewidth": 0,
              "ticks": ""
             }
            },
            "type": "scatter3d"
           }
          ],
          "scattercarpet": [
           {
            "marker": {
             "colorbar": {
              "outlinewidth": 0,
              "ticks": ""
             }
            },
            "type": "scattercarpet"
           }
          ],
          "scattergeo": [
           {
            "marker": {
             "colorbar": {
              "outlinewidth": 0,
              "ticks": ""
             }
            },
            "type": "scattergeo"
           }
          ],
          "scattergl": [
           {
            "marker": {
             "colorbar": {
              "outlinewidth": 0,
              "ticks": ""
             }
            },
            "type": "scattergl"
           }
          ],
          "scattermapbox": [
           {
            "marker": {
             "colorbar": {
              "outlinewidth": 0,
              "ticks": ""
             }
            },
            "type": "scattermapbox"
           }
          ],
          "scatterpolar": [
           {
            "marker": {
             "colorbar": {
              "outlinewidth": 0,
              "ticks": ""
             }
            },
            "type": "scatterpolar"
           }
          ],
          "scatterpolargl": [
           {
            "marker": {
             "colorbar": {
              "outlinewidth": 0,
              "ticks": ""
             }
            },
            "type": "scatterpolargl"
           }
          ],
          "scatterternary": [
           {
            "marker": {
             "colorbar": {
              "outlinewidth": 0,
              "ticks": ""
             }
            },
            "type": "scatterternary"
           }
          ],
          "surface": [
           {
            "colorbar": {
             "outlinewidth": 0,
             "ticks": ""
            },
            "colorscale": [
             [
              0,
              "#0d0887"
             ],
             [
              0.1111111111111111,
              "#46039f"
             ],
             [
              0.2222222222222222,
              "#7201a8"
             ],
             [
              0.3333333333333333,
              "#9c179e"
             ],
             [
              0.4444444444444444,
              "#bd3786"
             ],
             [
              0.5555555555555556,
              "#d8576b"
             ],
             [
              0.6666666666666666,
              "#ed7953"
             ],
             [
              0.7777777777777778,
              "#fb9f3a"
             ],
             [
              0.8888888888888888,
              "#fdca26"
             ],
             [
              1,
              "#f0f921"
             ]
            ],
            "type": "surface"
           }
          ],
          "table": [
           {
            "cells": {
             "fill": {
              "color": "#EBF0F8"
             },
             "line": {
              "color": "white"
             }
            },
            "header": {
             "fill": {
              "color": "#C8D4E3"
             },
             "line": {
              "color": "white"
             }
            },
            "type": "table"
           }
          ]
         },
         "layout": {
          "annotationdefaults": {
           "arrowcolor": "#2a3f5f",
           "arrowhead": 0,
           "arrowwidth": 1
          },
          "autotypenumbers": "strict",
          "coloraxis": {
           "colorbar": {
            "outlinewidth": 0,
            "ticks": ""
           }
          },
          "colorscale": {
           "diverging": [
            [
             0,
             "#8e0152"
            ],
            [
             0.1,
             "#c51b7d"
            ],
            [
             0.2,
             "#de77ae"
            ],
            [
             0.3,
             "#f1b6da"
            ],
            [
             0.4,
             "#fde0ef"
            ],
            [
             0.5,
             "#f7f7f7"
            ],
            [
             0.6,
             "#e6f5d0"
            ],
            [
             0.7,
             "#b8e186"
            ],
            [
             0.8,
             "#7fbc41"
            ],
            [
             0.9,
             "#4d9221"
            ],
            [
             1,
             "#276419"
            ]
           ],
           "sequential": [
            [
             0,
             "#0d0887"
            ],
            [
             0.1111111111111111,
             "#46039f"
            ],
            [
             0.2222222222222222,
             "#7201a8"
            ],
            [
             0.3333333333333333,
             "#9c179e"
            ],
            [
             0.4444444444444444,
             "#bd3786"
            ],
            [
             0.5555555555555556,
             "#d8576b"
            ],
            [
             0.6666666666666666,
             "#ed7953"
            ],
            [
             0.7777777777777778,
             "#fb9f3a"
            ],
            [
             0.8888888888888888,
             "#fdca26"
            ],
            [
             1,
             "#f0f921"
            ]
           ],
           "sequentialminus": [
            [
             0,
             "#0d0887"
            ],
            [
             0.1111111111111111,
             "#46039f"
            ],
            [
             0.2222222222222222,
             "#7201a8"
            ],
            [
             0.3333333333333333,
             "#9c179e"
            ],
            [
             0.4444444444444444,
             "#bd3786"
            ],
            [
             0.5555555555555556,
             "#d8576b"
            ],
            [
             0.6666666666666666,
             "#ed7953"
            ],
            [
             0.7777777777777778,
             "#fb9f3a"
            ],
            [
             0.8888888888888888,
             "#fdca26"
            ],
            [
             1,
             "#f0f921"
            ]
           ]
          },
          "colorway": [
           "#636efa",
           "#EF553B",
           "#00cc96",
           "#ab63fa",
           "#FFA15A",
           "#19d3f3",
           "#FF6692",
           "#B6E880",
           "#FF97FF",
           "#FECB52"
          ],
          "font": {
           "color": "#2a3f5f"
          },
          "geo": {
           "bgcolor": "white",
           "lakecolor": "white",
           "landcolor": "#E5ECF6",
           "showlakes": true,
           "showland": true,
           "subunitcolor": "white"
          },
          "hoverlabel": {
           "align": "left"
          },
          "hovermode": "closest",
          "mapbox": {
           "style": "light"
          },
          "paper_bgcolor": "white",
          "plot_bgcolor": "#E5ECF6",
          "polar": {
           "angularaxis": {
            "gridcolor": "white",
            "linecolor": "white",
            "ticks": ""
           },
           "bgcolor": "#E5ECF6",
           "radialaxis": {
            "gridcolor": "white",
            "linecolor": "white",
            "ticks": ""
           }
          },
          "scene": {
           "xaxis": {
            "backgroundcolor": "#E5ECF6",
            "gridcolor": "white",
            "gridwidth": 2,
            "linecolor": "white",
            "showbackground": true,
            "ticks": "",
            "zerolinecolor": "white"
           },
           "yaxis": {
            "backgroundcolor": "#E5ECF6",
            "gridcolor": "white",
            "gridwidth": 2,
            "linecolor": "white",
            "showbackground": true,
            "ticks": "",
            "zerolinecolor": "white"
           },
           "zaxis": {
            "backgroundcolor": "#E5ECF6",
            "gridcolor": "white",
            "gridwidth": 2,
            "linecolor": "white",
            "showbackground": true,
            "ticks": "",
            "zerolinecolor": "white"
           }
          },
          "shapedefaults": {
           "line": {
            "color": "#2a3f5f"
           }
          },
          "ternary": {
           "aaxis": {
            "gridcolor": "white",
            "linecolor": "white",
            "ticks": ""
           },
           "baxis": {
            "gridcolor": "white",
            "linecolor": "white",
            "ticks": ""
           },
           "bgcolor": "#E5ECF6",
           "caxis": {
            "gridcolor": "white",
            "linecolor": "white",
            "ticks": ""
           }
          },
          "title": {
           "x": 0.05
          },
          "xaxis": {
           "automargin": true,
           "gridcolor": "white",
           "linecolor": "white",
           "ticks": "",
           "title": {
            "standoff": 15
           },
           "zerolinecolor": "white",
           "zerolinewidth": 2
          },
          "yaxis": {
           "automargin": true,
           "gridcolor": "white",
           "linecolor": "white",
           "ticks": "",
           "title": {
            "standoff": 15
           },
           "zerolinecolor": "white",
           "zerolinewidth": 2
          }
         }
        },
        "title": {
         "text": "Category Safe Email and Phishing Email"
        }
       }
      }
     },
     "metadata": {},
     "output_type": "display_data"
    }
   ],
   "source": [
    "# Create the pie chart\n",
    "fig_pie = px.pie(df['Email Type'].value_counts(), names=df['Email Type'].value_counts().index,\n",
    "                 values=df['Email Type'].value_counts().values, title=\"Category Safe Email and Phishing Email\")\n",
    "\n",
    "# Show the pie chart\n",
    "fig_pie.show()"
   ]
  },
  {
   "cell_type": "code",
   "execution_count": null,
   "metadata": {},
   "outputs": [],
   "source": [
    "#encoding \n",
    "le = LabelEncoder()\n",
    "\n",
    "df[\"Email Type\"] = le.fit_transform(df[\"Email Type\"])"
   ]
  },
  {
   "cell_type": "code",
   "execution_count": null,
   "metadata": {},
   "outputs": [],
   "source": []
  },
  {
   "cell_type": "code",
   "execution_count": 15,
   "metadata": {},
   "outputs": [],
   "source": [
    "#Preprocessing data"
   ]
  },
  {
   "cell_type": "code",
   "execution_count": 16,
   "metadata": {},
   "outputs": [
    {
     "name": "stderr",
     "output_type": "stream",
     "text": [
      "[nltk_data] Downloading package stopwords to\n",
      "[nltk_data]     C:\\Users\\hiros\\AppData\\Roaming\\nltk_data...\n",
      "[nltk_data]   Package stopwords is already up-to-date!\n"
     ]
    }
   ],
   "source": [
    "\n",
    "from bs4 import BeautifulSoup\n",
    "import re\n",
    "import nltk\n",
    "from nltk.corpus import stopwords\n",
    "\n",
    "# Download stopwords\n",
    "nltk.download('stopwords')\n",
    "\n",
    "# Function to clean HTML\n",
    "def clean_html(text):\n",
    "    \n",
    "    return BeautifulSoup(text, \"html.parser\").get_text()\n",
    "\n",
    "# Function to convert text to lowercase\n",
    "def to_lowercase(text):\n",
    "    \n",
    "    return text.lower()\n",
    "\n",
    "# Function to remove special characters\n",
    "def remove_special_characters(text):\n",
    "    \n",
    "    return re.sub(r'[^a-zA-Z\\s]', '', text)\n",
    "\n",
    "# Function to remove stopwords\n",
    "def remove_stopwords(text):\n",
    "    \n",
    "    stop_words = set(stopwords.words('english'))\n",
    "    \n",
    "    return ' '.join(word for word in text.split() if word not in stop_words)\n",
    "\n",
    "# Pipeline function to preprocess text\n",
    "def preprocess_text(text):\n",
    "    text = clean_html(text)  # Step 1: Clean HTML\n",
    "    text = to_lowercase(text)  # Step 2: Lowercase\n",
    "    text = remove_special_characters(text)  # Step 3: Remove special characters\n",
    "    text = remove_stopwords(text)  # Step 4: Remove stopwords\n",
    "    \n",
    "    return text\n",
    "\n",
    "df['Cleaned Text'] = df['Email Text'].apply(preprocess_text) #create New column as Cleaned Text\n",
    "\n",
    "\n",
    "\n"
   ]
  },
  {
   "cell_type": "code",
   "execution_count": 17,
   "metadata": {},
   "outputs": [
    {
     "data": {
      "text/html": [
       "<div>\n",
       "<style scoped>\n",
       "    .dataframe tbody tr th:only-of-type {\n",
       "        vertical-align: middle;\n",
       "    }\n",
       "\n",
       "    .dataframe tbody tr th {\n",
       "        vertical-align: top;\n",
       "    }\n",
       "\n",
       "    .dataframe thead th {\n",
       "        text-align: right;\n",
       "    }\n",
       "</style>\n",
       "<table border=\"1\" class=\"dataframe\">\n",
       "  <thead>\n",
       "    <tr style=\"text-align: right;\">\n",
       "      <th></th>\n",
       "      <th>Email_count</th>\n",
       "      <th>Email Text</th>\n",
       "      <th>Email Type</th>\n",
       "      <th>Cleaned Text</th>\n",
       "    </tr>\n",
       "  </thead>\n",
       "  <tbody>\n",
       "    <tr>\n",
       "      <th>0</th>\n",
       "      <td>0</td>\n",
       "      <td>re : 6 . 1100 , disc : uniformitarianism , re ...</td>\n",
       "      <td>Safe Email</td>\n",
       "      <td>disc uniformitarianism sex lang dick hudson ob...</td>\n",
       "    </tr>\n",
       "    <tr>\n",
       "      <th>1</th>\n",
       "      <td>1</td>\n",
       "      <td>the other side of * galicismos * * galicismo *...</td>\n",
       "      <td>Safe Email</td>\n",
       "      <td>side galicismos galicismo spanish term names i...</td>\n",
       "    </tr>\n",
       "    <tr>\n",
       "      <th>2</th>\n",
       "      <td>2</td>\n",
       "      <td>re : equistar deal tickets are you still avail...</td>\n",
       "      <td>Safe Email</td>\n",
       "      <td>equistar deal tickets still available assist r...</td>\n",
       "    </tr>\n",
       "    <tr>\n",
       "      <th>3</th>\n",
       "      <td>3</td>\n",
       "      <td>\\nHello I am your hot lil horny toy.\\n    I am...</td>\n",
       "      <td>Phishing Email</td>\n",
       "      <td>hello hot lil horny toy one dream open minded ...</td>\n",
       "    </tr>\n",
       "    <tr>\n",
       "      <th>4</th>\n",
       "      <td>4</td>\n",
       "      <td>software at incredibly low prices ( 86 % lower...</td>\n",
       "      <td>Phishing Email</td>\n",
       "      <td>software incredibly low prices lower drapery s...</td>\n",
       "    </tr>\n",
       "  </tbody>\n",
       "</table>\n",
       "</div>"
      ],
      "text/plain": [
       "   Email_count                                         Email Text  \\\n",
       "0            0  re : 6 . 1100 , disc : uniformitarianism , re ...   \n",
       "1            1  the other side of * galicismos * * galicismo *...   \n",
       "2            2  re : equistar deal tickets are you still avail...   \n",
       "3            3  \\nHello I am your hot lil horny toy.\\n    I am...   \n",
       "4            4  software at incredibly low prices ( 86 % lower...   \n",
       "\n",
       "       Email Type                                       Cleaned Text  \n",
       "0      Safe Email  disc uniformitarianism sex lang dick hudson ob...  \n",
       "1      Safe Email  side galicismos galicismo spanish term names i...  \n",
       "2      Safe Email  equistar deal tickets still available assist r...  \n",
       "3  Phishing Email  hello hot lil horny toy one dream open minded ...  \n",
       "4  Phishing Email  software incredibly low prices lower drapery s...  "
      ]
     },
     "execution_count": 17,
     "metadata": {},
     "output_type": "execute_result"
    }
   ],
   "source": [
    "df.head()"
   ]
  },
  {
   "cell_type": "code",
   "execution_count": 18,
   "metadata": {},
   "outputs": [],
   "source": [
    "#Tokenization\n",
    "#Convert the cleaned text into tokens for further processing"
   ]
  },
  {
   "cell_type": "code",
   "execution_count": 19,
   "metadata": {},
   "outputs": [
    {
     "name": "stderr",
     "output_type": "stream",
     "text": [
      "[nltk_data] Downloading package punkt to\n",
      "[nltk_data]     C:\\Users\\hiros\\AppData\\Roaming\\nltk_data...\n",
      "[nltk_data]   Package punkt is already up-to-date!\n"
     ]
    }
   ],
   "source": [
    "from nltk.tokenize import word_tokenize\n",
    "nltk.download('punkt')\n",
    "\n",
    "def tokenize_text(text):\n",
    "    return word_tokenize(text)"
   ]
  },
  {
   "cell_type": "code",
   "execution_count": 20,
   "metadata": {},
   "outputs": [],
   "source": [
    "\n",
    "df['Tokenize Text'] = df['Cleaned Text'].apply(tokenize_text)"
   ]
  },
  {
   "cell_type": "code",
   "execution_count": 21,
   "metadata": {},
   "outputs": [
    {
     "data": {
      "text/html": [
       "<div>\n",
       "<style scoped>\n",
       "    .dataframe tbody tr th:only-of-type {\n",
       "        vertical-align: middle;\n",
       "    }\n",
       "\n",
       "    .dataframe tbody tr th {\n",
       "        vertical-align: top;\n",
       "    }\n",
       "\n",
       "    .dataframe thead th {\n",
       "        text-align: right;\n",
       "    }\n",
       "</style>\n",
       "<table border=\"1\" class=\"dataframe\">\n",
       "  <thead>\n",
       "    <tr style=\"text-align: right;\">\n",
       "      <th></th>\n",
       "      <th>Email_count</th>\n",
       "      <th>Email Text</th>\n",
       "      <th>Email Type</th>\n",
       "      <th>Cleaned Text</th>\n",
       "      <th>Tokenize Text</th>\n",
       "    </tr>\n",
       "  </thead>\n",
       "  <tbody>\n",
       "    <tr>\n",
       "      <th>0</th>\n",
       "      <td>0</td>\n",
       "      <td>re : 6 . 1100 , disc : uniformitarianism , re ...</td>\n",
       "      <td>Safe Email</td>\n",
       "      <td>disc uniformitarianism sex lang dick hudson ob...</td>\n",
       "      <td>[disc, uniformitarianism, sex, lang, dick, hud...</td>\n",
       "    </tr>\n",
       "    <tr>\n",
       "      <th>1</th>\n",
       "      <td>1</td>\n",
       "      <td>the other side of * galicismos * * galicismo *...</td>\n",
       "      <td>Safe Email</td>\n",
       "      <td>side galicismos galicismo spanish term names i...</td>\n",
       "      <td>[side, galicismos, galicismo, spanish, term, n...</td>\n",
       "    </tr>\n",
       "    <tr>\n",
       "      <th>2</th>\n",
       "      <td>2</td>\n",
       "      <td>re : equistar deal tickets are you still avail...</td>\n",
       "      <td>Safe Email</td>\n",
       "      <td>equistar deal tickets still available assist r...</td>\n",
       "      <td>[equistar, deal, tickets, still, available, as...</td>\n",
       "    </tr>\n",
       "    <tr>\n",
       "      <th>3</th>\n",
       "      <td>3</td>\n",
       "      <td>\\nHello I am your hot lil horny toy.\\n    I am...</td>\n",
       "      <td>Phishing Email</td>\n",
       "      <td>hello hot lil horny toy one dream open minded ...</td>\n",
       "      <td>[hello, hot, lil, horny, toy, one, dream, open...</td>\n",
       "    </tr>\n",
       "    <tr>\n",
       "      <th>4</th>\n",
       "      <td>4</td>\n",
       "      <td>software at incredibly low prices ( 86 % lower...</td>\n",
       "      <td>Phishing Email</td>\n",
       "      <td>software incredibly low prices lower drapery s...</td>\n",
       "      <td>[software, incredibly, low, prices, lower, dra...</td>\n",
       "    </tr>\n",
       "  </tbody>\n",
       "</table>\n",
       "</div>"
      ],
      "text/plain": [
       "   Email_count                                         Email Text  \\\n",
       "0            0  re : 6 . 1100 , disc : uniformitarianism , re ...   \n",
       "1            1  the other side of * galicismos * * galicismo *...   \n",
       "2            2  re : equistar deal tickets are you still avail...   \n",
       "3            3  \\nHello I am your hot lil horny toy.\\n    I am...   \n",
       "4            4  software at incredibly low prices ( 86 % lower...   \n",
       "\n",
       "       Email Type                                       Cleaned Text  \\\n",
       "0      Safe Email  disc uniformitarianism sex lang dick hudson ob...   \n",
       "1      Safe Email  side galicismos galicismo spanish term names i...   \n",
       "2      Safe Email  equistar deal tickets still available assist r...   \n",
       "3  Phishing Email  hello hot lil horny toy one dream open minded ...   \n",
       "4  Phishing Email  software incredibly low prices lower drapery s...   \n",
       "\n",
       "                                       Tokenize Text  \n",
       "0  [disc, uniformitarianism, sex, lang, dick, hud...  \n",
       "1  [side, galicismos, galicismo, spanish, term, n...  \n",
       "2  [equistar, deal, tickets, still, available, as...  \n",
       "3  [hello, hot, lil, horny, toy, one, dream, open...  \n",
       "4  [software, incredibly, low, prices, lower, dra...  "
      ]
     },
     "execution_count": 21,
     "metadata": {},
     "output_type": "execute_result"
    }
   ],
   "source": [
    "df.head()"
   ]
  },
  {
   "cell_type": "code",
   "execution_count": 22,
   "metadata": {},
   "outputs": [],
   "source": [
    "#Stemming and Lemmatization\n",
    "from nltk.stem import PorterStemmer\n",
    "\n",
    "stemmer = PorterStemmer()\n",
    "\n",
    "def stem_words(tokens):\n",
    "    return [stemmer.stem(word) for word in tokens]\n"
   ]
  },
  {
   "cell_type": "code",
   "execution_count": 23,
   "metadata": {},
   "outputs": [],
   "source": [
    "df['Stemmed Text'] = df['Tokenize Text'].apply(stem_words)"
   ]
  },
  {
   "cell_type": "code",
   "execution_count": 24,
   "metadata": {},
   "outputs": [
    {
     "data": {
      "text/html": [
       "<div>\n",
       "<style scoped>\n",
       "    .dataframe tbody tr th:only-of-type {\n",
       "        vertical-align: middle;\n",
       "    }\n",
       "\n",
       "    .dataframe tbody tr th {\n",
       "        vertical-align: top;\n",
       "    }\n",
       "\n",
       "    .dataframe thead th {\n",
       "        text-align: right;\n",
       "    }\n",
       "</style>\n",
       "<table border=\"1\" class=\"dataframe\">\n",
       "  <thead>\n",
       "    <tr style=\"text-align: right;\">\n",
       "      <th></th>\n",
       "      <th>Email_count</th>\n",
       "      <th>Email Text</th>\n",
       "      <th>Email Type</th>\n",
       "      <th>Cleaned Text</th>\n",
       "      <th>Tokenize Text</th>\n",
       "      <th>Stemmed Text</th>\n",
       "    </tr>\n",
       "  </thead>\n",
       "  <tbody>\n",
       "    <tr>\n",
       "      <th>0</th>\n",
       "      <td>0</td>\n",
       "      <td>re : 6 . 1100 , disc : uniformitarianism , re ...</td>\n",
       "      <td>Safe Email</td>\n",
       "      <td>disc uniformitarianism sex lang dick hudson ob...</td>\n",
       "      <td>[disc, uniformitarianism, sex, lang, dick, hud...</td>\n",
       "      <td>[disc, uniformitarian, sex, lang, dick, hudson...</td>\n",
       "    </tr>\n",
       "    <tr>\n",
       "      <th>1</th>\n",
       "      <td>1</td>\n",
       "      <td>the other side of * galicismos * * galicismo *...</td>\n",
       "      <td>Safe Email</td>\n",
       "      <td>side galicismos galicismo spanish term names i...</td>\n",
       "      <td>[side, galicismos, galicismo, spanish, term, n...</td>\n",
       "      <td>[side, galicismo, galicismo, spanish, term, na...</td>\n",
       "    </tr>\n",
       "    <tr>\n",
       "      <th>2</th>\n",
       "      <td>2</td>\n",
       "      <td>re : equistar deal tickets are you still avail...</td>\n",
       "      <td>Safe Email</td>\n",
       "      <td>equistar deal tickets still available assist r...</td>\n",
       "      <td>[equistar, deal, tickets, still, available, as...</td>\n",
       "      <td>[equistar, deal, ticket, still, avail, assist,...</td>\n",
       "    </tr>\n",
       "    <tr>\n",
       "      <th>3</th>\n",
       "      <td>3</td>\n",
       "      <td>\\nHello I am your hot lil horny toy.\\n    I am...</td>\n",
       "      <td>Phishing Email</td>\n",
       "      <td>hello hot lil horny toy one dream open minded ...</td>\n",
       "      <td>[hello, hot, lil, horny, toy, one, dream, open...</td>\n",
       "      <td>[hello, hot, lil, horni, toy, one, dream, open...</td>\n",
       "    </tr>\n",
       "    <tr>\n",
       "      <th>4</th>\n",
       "      <td>4</td>\n",
       "      <td>software at incredibly low prices ( 86 % lower...</td>\n",
       "      <td>Phishing Email</td>\n",
       "      <td>software incredibly low prices lower drapery s...</td>\n",
       "      <td>[software, incredibly, low, prices, lower, dra...</td>\n",
       "      <td>[softwar, incred, low, price, lower, draperi, ...</td>\n",
       "    </tr>\n",
       "  </tbody>\n",
       "</table>\n",
       "</div>"
      ],
      "text/plain": [
       "   Email_count                                         Email Text  \\\n",
       "0            0  re : 6 . 1100 , disc : uniformitarianism , re ...   \n",
       "1            1  the other side of * galicismos * * galicismo *...   \n",
       "2            2  re : equistar deal tickets are you still avail...   \n",
       "3            3  \\nHello I am your hot lil horny toy.\\n    I am...   \n",
       "4            4  software at incredibly low prices ( 86 % lower...   \n",
       "\n",
       "       Email Type                                       Cleaned Text  \\\n",
       "0      Safe Email  disc uniformitarianism sex lang dick hudson ob...   \n",
       "1      Safe Email  side galicismos galicismo spanish term names i...   \n",
       "2      Safe Email  equistar deal tickets still available assist r...   \n",
       "3  Phishing Email  hello hot lil horny toy one dream open minded ...   \n",
       "4  Phishing Email  software incredibly low prices lower drapery s...   \n",
       "\n",
       "                                       Tokenize Text  \\\n",
       "0  [disc, uniformitarianism, sex, lang, dick, hud...   \n",
       "1  [side, galicismos, galicismo, spanish, term, n...   \n",
       "2  [equistar, deal, tickets, still, available, as...   \n",
       "3  [hello, hot, lil, horny, toy, one, dream, open...   \n",
       "4  [software, incredibly, low, prices, lower, dra...   \n",
       "\n",
       "                                        Stemmed Text  \n",
       "0  [disc, uniformitarian, sex, lang, dick, hudson...  \n",
       "1  [side, galicismo, galicismo, spanish, term, na...  \n",
       "2  [equistar, deal, ticket, still, avail, assist,...  \n",
       "3  [hello, hot, lil, horni, toy, one, dream, open...  \n",
       "4  [softwar, incred, low, price, lower, draperi, ...  "
      ]
     },
     "execution_count": 24,
     "metadata": {},
     "output_type": "execute_result"
    }
   ],
   "source": [
    "df.head()"
   ]
  },
  {
   "cell_type": "code",
   "execution_count": 25,
   "metadata": {},
   "outputs": [
    {
     "name": "stderr",
     "output_type": "stream",
     "text": [
      "[nltk_data] Downloading package wordnet to\n",
      "[nltk_data]     C:\\Users\\hiros\\AppData\\Roaming\\nltk_data...\n",
      "[nltk_data]   Package wordnet is already up-to-date!\n"
     ]
    }
   ],
   "source": [
    "#Lemmatization\n",
    "from nltk.stem import WordNetLemmatizer\n",
    "nltk.download('wordnet')\n",
    "\n",
    "lemmatizer = WordNetLemmatizer()\n",
    "\n",
    "def lemmatize_words(tokens):\n",
    "    return [lemmatizer.lemmatize(word) for word in tokens]"
   ]
  },
  {
   "cell_type": "code",
   "execution_count": null,
   "metadata": {},
   "outputs": [],
   "source": []
  },
  {
   "cell_type": "code",
   "execution_count": 26,
   "metadata": {},
   "outputs": [],
   "source": [
    "df['Lemmatized Text'] = df['Stemmed Text'].apply(lemmatize_words)"
   ]
  },
  {
   "cell_type": "code",
   "execution_count": 27,
   "metadata": {},
   "outputs": [
    {
     "data": {
      "text/html": [
       "<div>\n",
       "<style scoped>\n",
       "    .dataframe tbody tr th:only-of-type {\n",
       "        vertical-align: middle;\n",
       "    }\n",
       "\n",
       "    .dataframe tbody tr th {\n",
       "        vertical-align: top;\n",
       "    }\n",
       "\n",
       "    .dataframe thead th {\n",
       "        text-align: right;\n",
       "    }\n",
       "</style>\n",
       "<table border=\"1\" class=\"dataframe\">\n",
       "  <thead>\n",
       "    <tr style=\"text-align: right;\">\n",
       "      <th></th>\n",
       "      <th>Email_count</th>\n",
       "      <th>Email Text</th>\n",
       "      <th>Email Type</th>\n",
       "      <th>Cleaned Text</th>\n",
       "      <th>Tokenize Text</th>\n",
       "      <th>Stemmed Text</th>\n",
       "      <th>Lemmatized Text</th>\n",
       "    </tr>\n",
       "  </thead>\n",
       "  <tbody>\n",
       "    <tr>\n",
       "      <th>0</th>\n",
       "      <td>0</td>\n",
       "      <td>re : 6 . 1100 , disc : uniformitarianism , re ...</td>\n",
       "      <td>Safe Email</td>\n",
       "      <td>disc uniformitarianism sex lang dick hudson ob...</td>\n",
       "      <td>[disc, uniformitarianism, sex, lang, dick, hud...</td>\n",
       "      <td>[disc, uniformitarian, sex, lang, dick, hudson...</td>\n",
       "      <td>[disc, uniformitarian, sex, lang, dick, hudson...</td>\n",
       "    </tr>\n",
       "    <tr>\n",
       "      <th>1</th>\n",
       "      <td>1</td>\n",
       "      <td>the other side of * galicismos * * galicismo *...</td>\n",
       "      <td>Safe Email</td>\n",
       "      <td>side galicismos galicismo spanish term names i...</td>\n",
       "      <td>[side, galicismos, galicismo, spanish, term, n...</td>\n",
       "      <td>[side, galicismo, galicismo, spanish, term, na...</td>\n",
       "      <td>[side, galicismo, galicismo, spanish, term, na...</td>\n",
       "    </tr>\n",
       "    <tr>\n",
       "      <th>2</th>\n",
       "      <td>2</td>\n",
       "      <td>re : equistar deal tickets are you still avail...</td>\n",
       "      <td>Safe Email</td>\n",
       "      <td>equistar deal tickets still available assist r...</td>\n",
       "      <td>[equistar, deal, tickets, still, available, as...</td>\n",
       "      <td>[equistar, deal, ticket, still, avail, assist,...</td>\n",
       "      <td>[equistar, deal, ticket, still, avail, assist,...</td>\n",
       "    </tr>\n",
       "    <tr>\n",
       "      <th>3</th>\n",
       "      <td>3</td>\n",
       "      <td>\\nHello I am your hot lil horny toy.\\n    I am...</td>\n",
       "      <td>Phishing Email</td>\n",
       "      <td>hello hot lil horny toy one dream open minded ...</td>\n",
       "      <td>[hello, hot, lil, horny, toy, one, dream, open...</td>\n",
       "      <td>[hello, hot, lil, horni, toy, one, dream, open...</td>\n",
       "      <td>[hello, hot, lil, horni, toy, one, dream, open...</td>\n",
       "    </tr>\n",
       "    <tr>\n",
       "      <th>4</th>\n",
       "      <td>4</td>\n",
       "      <td>software at incredibly low prices ( 86 % lower...</td>\n",
       "      <td>Phishing Email</td>\n",
       "      <td>software incredibly low prices lower drapery s...</td>\n",
       "      <td>[software, incredibly, low, prices, lower, dra...</td>\n",
       "      <td>[softwar, incred, low, price, lower, draperi, ...</td>\n",
       "      <td>[softwar, incred, low, price, lower, draperi, ...</td>\n",
       "    </tr>\n",
       "  </tbody>\n",
       "</table>\n",
       "</div>"
      ],
      "text/plain": [
       "   Email_count                                         Email Text  \\\n",
       "0            0  re : 6 . 1100 , disc : uniformitarianism , re ...   \n",
       "1            1  the other side of * galicismos * * galicismo *...   \n",
       "2            2  re : equistar deal tickets are you still avail...   \n",
       "3            3  \\nHello I am your hot lil horny toy.\\n    I am...   \n",
       "4            4  software at incredibly low prices ( 86 % lower...   \n",
       "\n",
       "       Email Type                                       Cleaned Text  \\\n",
       "0      Safe Email  disc uniformitarianism sex lang dick hudson ob...   \n",
       "1      Safe Email  side galicismos galicismo spanish term names i...   \n",
       "2      Safe Email  equistar deal tickets still available assist r...   \n",
       "3  Phishing Email  hello hot lil horny toy one dream open minded ...   \n",
       "4  Phishing Email  software incredibly low prices lower drapery s...   \n",
       "\n",
       "                                       Tokenize Text  \\\n",
       "0  [disc, uniformitarianism, sex, lang, dick, hud...   \n",
       "1  [side, galicismos, galicismo, spanish, term, n...   \n",
       "2  [equistar, deal, tickets, still, available, as...   \n",
       "3  [hello, hot, lil, horny, toy, one, dream, open...   \n",
       "4  [software, incredibly, low, prices, lower, dra...   \n",
       "\n",
       "                                        Stemmed Text  \\\n",
       "0  [disc, uniformitarian, sex, lang, dick, hudson...   \n",
       "1  [side, galicismo, galicismo, spanish, term, na...   \n",
       "2  [equistar, deal, ticket, still, avail, assist,...   \n",
       "3  [hello, hot, lil, horni, toy, one, dream, open...   \n",
       "4  [softwar, incred, low, price, lower, draperi, ...   \n",
       "\n",
       "                                     Lemmatized Text  \n",
       "0  [disc, uniformitarian, sex, lang, dick, hudson...  \n",
       "1  [side, galicismo, galicismo, spanish, term, na...  \n",
       "2  [equistar, deal, ticket, still, avail, assist,...  \n",
       "3  [hello, hot, lil, horni, toy, one, dream, open...  \n",
       "4  [softwar, incred, low, price, lower, draperi, ...  "
      ]
     },
     "execution_count": 27,
     "metadata": {},
     "output_type": "execute_result"
    }
   ],
   "source": [
    "df.head()"
   ]
  },
  {
   "cell_type": "code",
   "execution_count": 28,
   "metadata": {},
   "outputs": [],
   "source": [
    "df['Real_Email_Text'] = df['Lemmatized Text']"
   ]
  },
  {
   "cell_type": "code",
   "execution_count": 29,
   "metadata": {},
   "outputs": [
    {
     "data": {
      "text/html": [
       "<div>\n",
       "<style scoped>\n",
       "    .dataframe tbody tr th:only-of-type {\n",
       "        vertical-align: middle;\n",
       "    }\n",
       "\n",
       "    .dataframe tbody tr th {\n",
       "        vertical-align: top;\n",
       "    }\n",
       "\n",
       "    .dataframe thead th {\n",
       "        text-align: right;\n",
       "    }\n",
       "</style>\n",
       "<table border=\"1\" class=\"dataframe\">\n",
       "  <thead>\n",
       "    <tr style=\"text-align: right;\">\n",
       "      <th></th>\n",
       "      <th>Email_count</th>\n",
       "      <th>Email Text</th>\n",
       "      <th>Email Type</th>\n",
       "      <th>Cleaned Text</th>\n",
       "      <th>Tokenize Text</th>\n",
       "      <th>Stemmed Text</th>\n",
       "      <th>Lemmatized Text</th>\n",
       "      <th>Real_Email_Text</th>\n",
       "    </tr>\n",
       "  </thead>\n",
       "  <tbody>\n",
       "    <tr>\n",
       "      <th>0</th>\n",
       "      <td>0</td>\n",
       "      <td>re : 6 . 1100 , disc : uniformitarianism , re ...</td>\n",
       "      <td>Safe Email</td>\n",
       "      <td>disc uniformitarianism sex lang dick hudson ob...</td>\n",
       "      <td>[disc, uniformitarianism, sex, lang, dick, hud...</td>\n",
       "      <td>[disc, uniformitarian, sex, lang, dick, hudson...</td>\n",
       "      <td>[disc, uniformitarian, sex, lang, dick, hudson...</td>\n",
       "      <td>[disc, uniformitarian, sex, lang, dick, hudson...</td>\n",
       "    </tr>\n",
       "    <tr>\n",
       "      <th>1</th>\n",
       "      <td>1</td>\n",
       "      <td>the other side of * galicismos * * galicismo *...</td>\n",
       "      <td>Safe Email</td>\n",
       "      <td>side galicismos galicismo spanish term names i...</td>\n",
       "      <td>[side, galicismos, galicismo, spanish, term, n...</td>\n",
       "      <td>[side, galicismo, galicismo, spanish, term, na...</td>\n",
       "      <td>[side, galicismo, galicismo, spanish, term, na...</td>\n",
       "      <td>[side, galicismo, galicismo, spanish, term, na...</td>\n",
       "    </tr>\n",
       "    <tr>\n",
       "      <th>2</th>\n",
       "      <td>2</td>\n",
       "      <td>re : equistar deal tickets are you still avail...</td>\n",
       "      <td>Safe Email</td>\n",
       "      <td>equistar deal tickets still available assist r...</td>\n",
       "      <td>[equistar, deal, tickets, still, available, as...</td>\n",
       "      <td>[equistar, deal, ticket, still, avail, assist,...</td>\n",
       "      <td>[equistar, deal, ticket, still, avail, assist,...</td>\n",
       "      <td>[equistar, deal, ticket, still, avail, assist,...</td>\n",
       "    </tr>\n",
       "    <tr>\n",
       "      <th>3</th>\n",
       "      <td>3</td>\n",
       "      <td>\\nHello I am your hot lil horny toy.\\n    I am...</td>\n",
       "      <td>Phishing Email</td>\n",
       "      <td>hello hot lil horny toy one dream open minded ...</td>\n",
       "      <td>[hello, hot, lil, horny, toy, one, dream, open...</td>\n",
       "      <td>[hello, hot, lil, horni, toy, one, dream, open...</td>\n",
       "      <td>[hello, hot, lil, horni, toy, one, dream, open...</td>\n",
       "      <td>[hello, hot, lil, horni, toy, one, dream, open...</td>\n",
       "    </tr>\n",
       "    <tr>\n",
       "      <th>4</th>\n",
       "      <td>4</td>\n",
       "      <td>software at incredibly low prices ( 86 % lower...</td>\n",
       "      <td>Phishing Email</td>\n",
       "      <td>software incredibly low prices lower drapery s...</td>\n",
       "      <td>[software, incredibly, low, prices, lower, dra...</td>\n",
       "      <td>[softwar, incred, low, price, lower, draperi, ...</td>\n",
       "      <td>[softwar, incred, low, price, lower, draperi, ...</td>\n",
       "      <td>[softwar, incred, low, price, lower, draperi, ...</td>\n",
       "    </tr>\n",
       "  </tbody>\n",
       "</table>\n",
       "</div>"
      ],
      "text/plain": [
       "   Email_count                                         Email Text  \\\n",
       "0            0  re : 6 . 1100 , disc : uniformitarianism , re ...   \n",
       "1            1  the other side of * galicismos * * galicismo *...   \n",
       "2            2  re : equistar deal tickets are you still avail...   \n",
       "3            3  \\nHello I am your hot lil horny toy.\\n    I am...   \n",
       "4            4  software at incredibly low prices ( 86 % lower...   \n",
       "\n",
       "       Email Type                                       Cleaned Text  \\\n",
       "0      Safe Email  disc uniformitarianism sex lang dick hudson ob...   \n",
       "1      Safe Email  side galicismos galicismo spanish term names i...   \n",
       "2      Safe Email  equistar deal tickets still available assist r...   \n",
       "3  Phishing Email  hello hot lil horny toy one dream open minded ...   \n",
       "4  Phishing Email  software incredibly low prices lower drapery s...   \n",
       "\n",
       "                                       Tokenize Text  \\\n",
       "0  [disc, uniformitarianism, sex, lang, dick, hud...   \n",
       "1  [side, galicismos, galicismo, spanish, term, n...   \n",
       "2  [equistar, deal, tickets, still, available, as...   \n",
       "3  [hello, hot, lil, horny, toy, one, dream, open...   \n",
       "4  [software, incredibly, low, prices, lower, dra...   \n",
       "\n",
       "                                        Stemmed Text  \\\n",
       "0  [disc, uniformitarian, sex, lang, dick, hudson...   \n",
       "1  [side, galicismo, galicismo, spanish, term, na...   \n",
       "2  [equistar, deal, ticket, still, avail, assist,...   \n",
       "3  [hello, hot, lil, horni, toy, one, dream, open...   \n",
       "4  [softwar, incred, low, price, lower, draperi, ...   \n",
       "\n",
       "                                     Lemmatized Text  \\\n",
       "0  [disc, uniformitarian, sex, lang, dick, hudson...   \n",
       "1  [side, galicismo, galicismo, spanish, term, na...   \n",
       "2  [equistar, deal, ticket, still, avail, assist,...   \n",
       "3  [hello, hot, lil, horni, toy, one, dream, open...   \n",
       "4  [softwar, incred, low, price, lower, draperi, ...   \n",
       "\n",
       "                                     Real_Email_Text  \n",
       "0  [disc, uniformitarian, sex, lang, dick, hudson...  \n",
       "1  [side, galicismo, galicismo, spanish, term, na...  \n",
       "2  [equistar, deal, ticket, still, avail, assist,...  \n",
       "3  [hello, hot, lil, horni, toy, one, dream, open...  \n",
       "4  [softwar, incred, low, price, lower, draperi, ...  "
      ]
     },
     "execution_count": 29,
     "metadata": {},
     "output_type": "execute_result"
    }
   ],
   "source": [
    "df.head()"
   ]
  },
  {
   "cell_type": "code",
   "execution_count": 30,
   "metadata": {},
   "outputs": [],
   "source": [
    "#Feature Engineering Pipeline\n",
    "\n",
    "\n"
   ]
  },
  {
   "cell_type": "code",
   "execution_count": 31,
   "metadata": {},
   "outputs": [],
   "source": [
    "# Importing additional libraries for language detection\n",
    "from langdetect import detect, LangDetectException\n",
    "\n",
    "# Normalizing Text\n",
    "# Normalize URLs and email addresses in email text\n",
    "def normalize_urls(text):\n",
    "    return re.sub(r'http\\S+|www\\S+|https\\S+', '<URL>', text)\n",
    "\n",
    "def normalize_email_addresses(text):\n",
    "    return re.sub(r'\\S+@\\S+', '<EMAIL>', text)\n",
    "\n",
    "\n"
   ]
  },
  {
   "cell_type": "code",
   "execution_count": 32,
   "metadata": {},
   "outputs": [],
   "source": [
    "# Handling Non-English Text\n",
    "# Detect non-English emails and filter them out\n",
    "def is_english(text):\n",
    "    try:\n",
    "        return detect(text) == 'en'\n",
    "    except LangDetectException:\n",
    "        return False\n",
    "\n"
   ]
  },
  {
   "cell_type": "code",
   "execution_count": 33,
   "metadata": {},
   "outputs": [],
   "source": [
    "# Ensure Real_Email_Text contains strings\n",
    "df['Real_Email_Text'] = df['Real_Email_Text'].apply(lambda x: ' '.join(x) if isinstance(x, list) else x)\n",
    "\n",
    "# Applying the language filter to keep only English emails\n",
    "df['is_english'] = df['Real_Email_Text'].apply(is_english)\n",
    "df = df[df['is_english'] == True]\n",
    "\n"
   ]
  },
  {
   "cell_type": "code",
   "execution_count": 34,
   "metadata": {},
   "outputs": [],
   "source": [
    "#  Removing Duplicate Content\n",
    "# Remove duplicate emails based on 'Email Text' column\n",
    "def remove_duplicates(df):\n",
    "    return df.drop_duplicates(subset='Real_Email_Text')\n",
    "\n"
   ]
  },
  {
   "cell_type": "code",
   "execution_count": 35,
   "metadata": {},
   "outputs": [
    {
     "name": "stdout",
     "output_type": "stream",
     "text": [
      "   Email_count                                         Email Text  \\\n",
      "0            0  re : 6 . 1100 , disc : uniformitarianism , re ...   \n",
      "1            1  the other side of * galicismos * * galicismo *...   \n",
      "2            2  re : equistar deal tickets are you still avail...   \n",
      "3            3  \\nHello I am your hot lil horny toy.\\n    I am...   \n",
      "4            4  software at incredibly low prices ( 86 % lower...   \n",
      "\n",
      "       Email Type                                       Cleaned Text  \\\n",
      "0      Safe Email  disc uniformitarianism sex lang dick hudson ob...   \n",
      "1      Safe Email  side galicismos galicismo spanish term names i...   \n",
      "2      Safe Email  equistar deal tickets still available assist r...   \n",
      "3  Phishing Email  hello hot lil horny toy one dream open minded ...   \n",
      "4  Phishing Email  software incredibly low prices lower drapery s...   \n",
      "\n",
      "                                       Tokenize Text  \\\n",
      "0  [disc, uniformitarianism, sex, lang, dick, hud...   \n",
      "1  [side, galicismos, galicismo, spanish, term, n...   \n",
      "2  [equistar, deal, tickets, still, available, as...   \n",
      "3  [hello, hot, lil, horny, toy, one, dream, open...   \n",
      "4  [software, incredibly, low, prices, lower, dra...   \n",
      "\n",
      "                                        Stemmed Text  \\\n",
      "0  [disc, uniformitarian, sex, lang, dick, hudson...   \n",
      "1  [side, galicismo, galicismo, spanish, term, na...   \n",
      "2  [equistar, deal, ticket, still, avail, assist,...   \n",
      "3  [hello, hot, lil, horni, toy, one, dream, open...   \n",
      "4  [softwar, incred, low, price, lower, draperi, ...   \n",
      "\n",
      "                                     Lemmatized Text  \\\n",
      "0  [disc, uniformitarian, sex, lang, dick, hudson...   \n",
      "1  [side, galicismo, galicismo, spanish, term, na...   \n",
      "2  [equistar, deal, ticket, still, avail, assist,...   \n",
      "3  [hello, hot, lil, horni, toy, one, dream, open...   \n",
      "4  [softwar, incred, low, price, lower, draperi, ...   \n",
      "\n",
      "                                     Real_Email_Text  is_english  \\\n",
      "0  disc uniformitarian sex lang dick hudson obser...        True   \n",
      "1  side galicismo galicismo spanish term name imp...        True   \n",
      "2  equistar deal ticket still avail assist robert...        True   \n",
      "3  hello hot lil horni toy one dream open mind pe...        True   \n",
      "4  softwar incred low price lower draperi sevente...        True   \n",
      "\n",
      "                               Normalized Email Text  \n",
      "0  disc uniformitarian sex lang dick hudson obser...  \n",
      "1  side galicismo galicismo spanish term name imp...  \n",
      "2  equistar deal ticket still avail assist robert...  \n",
      "3  hello hot lil horni toy one dream open mind pe...  \n",
      "4  softwar incred low price lower draperi sevente...  \n"
     ]
    }
   ],
   "source": [
    "# Removing duplicates from the dataset\n",
    "df_unique = remove_duplicates(df)\n",
    "\n",
    "# Apply feature normalization (URLs, email addresses)\n",
    "df_unique['Normalized Email Text'] = df_unique['Real_Email_Text'].apply(normalize_urls).apply(normalize_email_addresses)\n",
    "\n",
    "# Display the processed DataFrame\n",
    "print(df_unique.head())"
   ]
  },
  {
   "cell_type": "code",
   "execution_count": 36,
   "metadata": {},
   "outputs": [],
   "source": [
    "# Apply feature normalization (URLs, email addresses) to 'Real_Email_Text' column\n",
    "\n",
    "df_unique['Normalized Email Text'] = df_unique['Real_Email_Text'].apply(normalize_urls).apply(normalize_email_addresses)\n"
   ]
  },
  {
   "cell_type": "code",
   "execution_count": 37,
   "metadata": {},
   "outputs": [
    {
     "name": "stdout",
     "output_type": "stream",
     "text": [
      "                                          Email Text  \\\n",
      "0  re : 6 . 1100 , disc : uniformitarianism , re ...   \n",
      "1  the other side of * galicismos * * galicismo *...   \n",
      "2  re : equistar deal tickets are you still avail...   \n",
      "3  \\nHello I am your hot lil horny toy.\\n    I am...   \n",
      "4  software at incredibly low prices ( 86 % lower...   \n",
      "\n",
      "                                        Cleaned Text  \\\n",
      "0  disc uniformitarianism sex lang dick hudson ob...   \n",
      "1  side galicismos galicismo spanish term names i...   \n",
      "2  equistar deal tickets still available assist r...   \n",
      "3  hello hot lil horny toy one dream open minded ...   \n",
      "4  software incredibly low prices lower drapery s...   \n",
      "\n",
      "                                       Tokenize Text  \\\n",
      "0  [disc, uniformitarianism, sex, lang, dick, hud...   \n",
      "1  [side, galicismos, galicismo, spanish, term, n...   \n",
      "2  [equistar, deal, tickets, still, available, as...   \n",
      "3  [hello, hot, lil, horny, toy, one, dream, open...   \n",
      "4  [software, incredibly, low, prices, lower, dra...   \n",
      "\n",
      "                                        Stemmed Text  \\\n",
      "0  [disc, uniformitarian, sex, lang, dick, hudson...   \n",
      "1  [side, galicismo, galicismo, spanish, term, na...   \n",
      "2  [equistar, deal, ticket, still, avail, assist,...   \n",
      "3  [hello, hot, lil, horni, toy, one, dream, open...   \n",
      "4  [softwar, incred, low, price, lower, draperi, ...   \n",
      "\n",
      "                                     Lemmatized Text  \\\n",
      "0  [disc, uniformitarian, sex, lang, dick, hudson...   \n",
      "1  [side, galicismo, galicismo, spanish, term, na...   \n",
      "2  [equistar, deal, ticket, still, avail, assist,...   \n",
      "3  [hello, hot, lil, horni, toy, one, dream, open...   \n",
      "4  [softwar, incred, low, price, lower, draperi, ...   \n",
      "\n",
      "                                     Real_Email_Text  \\\n",
      "0  disc uniformitarian sex lang dick hudson obser...   \n",
      "1  side galicismo galicismo spanish term name imp...   \n",
      "2  equistar deal ticket still avail assist robert...   \n",
      "3  hello hot lil horni toy one dream open mind pe...   \n",
      "4  softwar incred low price lower draperi sevente...   \n",
      "\n",
      "                               Normalized Email Text  \n",
      "0  disc uniformitarian sex lang dick hudson obser...  \n",
      "1  side galicismo galicismo spanish term name imp...  \n",
      "2  equistar deal ticket still avail assist robert...  \n",
      "3  hello hot lil horni toy one dream open mind pe...  \n",
      "4  softwar incred low price lower draperi sevente...  \n"
     ]
    }
   ],
   "source": [
    "print(df_unique[['Email Text', 'Cleaned Text', 'Tokenize Text', 'Stemmed Text', 'Lemmatized Text', 'Real_Email_Text','Normalized Email Text']].head())"
   ]
  },
  {
   "cell_type": "code",
   "execution_count": 38,
   "metadata": {},
   "outputs": [
    {
     "data": {
      "text/html": [
       "<div>\n",
       "<style scoped>\n",
       "    .dataframe tbody tr th:only-of-type {\n",
       "        vertical-align: middle;\n",
       "    }\n",
       "\n",
       "    .dataframe tbody tr th {\n",
       "        vertical-align: top;\n",
       "    }\n",
       "\n",
       "    .dataframe thead th {\n",
       "        text-align: right;\n",
       "    }\n",
       "</style>\n",
       "<table border=\"1\" class=\"dataframe\">\n",
       "  <thead>\n",
       "    <tr style=\"text-align: right;\">\n",
       "      <th></th>\n",
       "      <th>Email_count</th>\n",
       "      <th>Email Text</th>\n",
       "      <th>Email Type</th>\n",
       "      <th>Cleaned Text</th>\n",
       "      <th>Tokenize Text</th>\n",
       "      <th>Stemmed Text</th>\n",
       "      <th>Lemmatized Text</th>\n",
       "      <th>Real_Email_Text</th>\n",
       "      <th>is_english</th>\n",
       "    </tr>\n",
       "  </thead>\n",
       "  <tbody>\n",
       "    <tr>\n",
       "      <th>0</th>\n",
       "      <td>0</td>\n",
       "      <td>re : 6 . 1100 , disc : uniformitarianism , re ...</td>\n",
       "      <td>Safe Email</td>\n",
       "      <td>disc uniformitarianism sex lang dick hudson ob...</td>\n",
       "      <td>[disc, uniformitarianism, sex, lang, dick, hud...</td>\n",
       "      <td>[disc, uniformitarian, sex, lang, dick, hudson...</td>\n",
       "      <td>[disc, uniformitarian, sex, lang, dick, hudson...</td>\n",
       "      <td>disc uniformitarian sex lang dick hudson obser...</td>\n",
       "      <td>True</td>\n",
       "    </tr>\n",
       "    <tr>\n",
       "      <th>1</th>\n",
       "      <td>1</td>\n",
       "      <td>the other side of * galicismos * * galicismo *...</td>\n",
       "      <td>Safe Email</td>\n",
       "      <td>side galicismos galicismo spanish term names i...</td>\n",
       "      <td>[side, galicismos, galicismo, spanish, term, n...</td>\n",
       "      <td>[side, galicismo, galicismo, spanish, term, na...</td>\n",
       "      <td>[side, galicismo, galicismo, spanish, term, na...</td>\n",
       "      <td>side galicismo galicismo spanish term name imp...</td>\n",
       "      <td>True</td>\n",
       "    </tr>\n",
       "    <tr>\n",
       "      <th>2</th>\n",
       "      <td>2</td>\n",
       "      <td>re : equistar deal tickets are you still avail...</td>\n",
       "      <td>Safe Email</td>\n",
       "      <td>equistar deal tickets still available assist r...</td>\n",
       "      <td>[equistar, deal, tickets, still, available, as...</td>\n",
       "      <td>[equistar, deal, ticket, still, avail, assist,...</td>\n",
       "      <td>[equistar, deal, ticket, still, avail, assist,...</td>\n",
       "      <td>equistar deal ticket still avail assist robert...</td>\n",
       "      <td>True</td>\n",
       "    </tr>\n",
       "    <tr>\n",
       "      <th>3</th>\n",
       "      <td>3</td>\n",
       "      <td>\\nHello I am your hot lil horny toy.\\n    I am...</td>\n",
       "      <td>Phishing Email</td>\n",
       "      <td>hello hot lil horny toy one dream open minded ...</td>\n",
       "      <td>[hello, hot, lil, horny, toy, one, dream, open...</td>\n",
       "      <td>[hello, hot, lil, horni, toy, one, dream, open...</td>\n",
       "      <td>[hello, hot, lil, horni, toy, one, dream, open...</td>\n",
       "      <td>hello hot lil horni toy one dream open mind pe...</td>\n",
       "      <td>True</td>\n",
       "    </tr>\n",
       "    <tr>\n",
       "      <th>4</th>\n",
       "      <td>4</td>\n",
       "      <td>software at incredibly low prices ( 86 % lower...</td>\n",
       "      <td>Phishing Email</td>\n",
       "      <td>software incredibly low prices lower drapery s...</td>\n",
       "      <td>[software, incredibly, low, prices, lower, dra...</td>\n",
       "      <td>[softwar, incred, low, price, lower, draperi, ...</td>\n",
       "      <td>[softwar, incred, low, price, lower, draperi, ...</td>\n",
       "      <td>softwar incred low price lower draperi sevente...</td>\n",
       "      <td>True</td>\n",
       "    </tr>\n",
       "  </tbody>\n",
       "</table>\n",
       "</div>"
      ],
      "text/plain": [
       "   Email_count                                         Email Text  \\\n",
       "0            0  re : 6 . 1100 , disc : uniformitarianism , re ...   \n",
       "1            1  the other side of * galicismos * * galicismo *...   \n",
       "2            2  re : equistar deal tickets are you still avail...   \n",
       "3            3  \\nHello I am your hot lil horny toy.\\n    I am...   \n",
       "4            4  software at incredibly low prices ( 86 % lower...   \n",
       "\n",
       "       Email Type                                       Cleaned Text  \\\n",
       "0      Safe Email  disc uniformitarianism sex lang dick hudson ob...   \n",
       "1      Safe Email  side galicismos galicismo spanish term names i...   \n",
       "2      Safe Email  equistar deal tickets still available assist r...   \n",
       "3  Phishing Email  hello hot lil horny toy one dream open minded ...   \n",
       "4  Phishing Email  software incredibly low prices lower drapery s...   \n",
       "\n",
       "                                       Tokenize Text  \\\n",
       "0  [disc, uniformitarianism, sex, lang, dick, hud...   \n",
       "1  [side, galicismos, galicismo, spanish, term, n...   \n",
       "2  [equistar, deal, tickets, still, available, as...   \n",
       "3  [hello, hot, lil, horny, toy, one, dream, open...   \n",
       "4  [software, incredibly, low, prices, lower, dra...   \n",
       "\n",
       "                                        Stemmed Text  \\\n",
       "0  [disc, uniformitarian, sex, lang, dick, hudson...   \n",
       "1  [side, galicismo, galicismo, spanish, term, na...   \n",
       "2  [equistar, deal, ticket, still, avail, assist,...   \n",
       "3  [hello, hot, lil, horni, toy, one, dream, open...   \n",
       "4  [softwar, incred, low, price, lower, draperi, ...   \n",
       "\n",
       "                                     Lemmatized Text  \\\n",
       "0  [disc, uniformitarian, sex, lang, dick, hudson...   \n",
       "1  [side, galicismo, galicismo, spanish, term, na...   \n",
       "2  [equistar, deal, ticket, still, avail, assist,...   \n",
       "3  [hello, hot, lil, horni, toy, one, dream, open...   \n",
       "4  [softwar, incred, low, price, lower, draperi, ...   \n",
       "\n",
       "                                     Real_Email_Text  is_english  \n",
       "0  disc uniformitarian sex lang dick hudson obser...        True  \n",
       "1  side galicismo galicismo spanish term name imp...        True  \n",
       "2  equistar deal ticket still avail assist robert...        True  \n",
       "3  hello hot lil horni toy one dream open mind pe...        True  \n",
       "4  softwar incred low price lower draperi sevente...        True  "
      ]
     },
     "execution_count": 38,
     "metadata": {},
     "output_type": "execute_result"
    }
   ],
   "source": [
    "df.head()"
   ]
  },
  {
   "cell_type": "code",
   "execution_count": null,
   "metadata": {},
   "outputs": [],
   "source": []
  }
 ],
 "metadata": {
  "kernelspec": {
   "display_name": "Python 3",
   "language": "python",
   "name": "python3"
  },
  "language_info": {
   "codemirror_mode": {
    "name": "ipython",
    "version": 3
   },
   "file_extension": ".py",
   "mimetype": "text/x-python",
   "name": "python",
   "nbconvert_exporter": "python",
   "pygments_lexer": "ipython3",
   "version": "3.11.5"
  }
 },
 "nbformat": 4,
 "nbformat_minor": 2
}
